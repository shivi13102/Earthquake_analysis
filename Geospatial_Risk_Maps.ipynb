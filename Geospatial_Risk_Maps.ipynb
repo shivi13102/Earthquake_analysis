{
  "nbformat": 4,
  "nbformat_minor": 0,
  "metadata": {
    "colab": {
      "provenance": [],
      "authorship_tag": "ABX9TyPaYFzAAy4MUYLAORVHbR06",
      "include_colab_link": true
    },
    "kernelspec": {
      "name": "python3",
      "display_name": "Python 3"
    },
    "language_info": {
      "name": "python"
    }
  },
  "cells": [
    {
      "cell_type": "markdown",
      "metadata": {
        "id": "view-in-github",
        "colab_type": "text"
      },
      "source": [
        "<a href=\"https://colab.research.google.com/github/shivi13102/Earthquake_analysis/blob/main/Geospatial_Risk_Maps.ipynb\" target=\"_parent\"><img src=\"https://colab.research.google.com/assets/colab-badge.svg\" alt=\"Open In Colab\"/></a>"
      ]
    },
    {
      "cell_type": "code",
      "execution_count": 12,
      "metadata": {
        "colab": {
          "base_uri": "https://localhost:8080/"
        },
        "id": "amF27qpeUIK-",
        "outputId": "7dbff786-1d91-4ecd-b2f0-b88b498f12e7"
      },
      "outputs": [
        {
          "output_type": "stream",
          "name": "stdout",
          "text": [
            "Requirement already satisfied: folium in /usr/local/lib/python3.10/dist-packages (0.19.2)\n",
            "Requirement already satisfied: branca>=0.6.0 in /usr/local/lib/python3.10/dist-packages (from folium) (0.8.1)\n",
            "Requirement already satisfied: jinja2>=2.9 in /usr/local/lib/python3.10/dist-packages (from folium) (3.1.4)\n",
            "Requirement already satisfied: numpy in /usr/local/lib/python3.10/dist-packages (from folium) (1.26.4)\n",
            "Requirement already satisfied: requests in /usr/local/lib/python3.10/dist-packages (from folium) (2.32.3)\n",
            "Requirement already satisfied: xyzservices in /usr/local/lib/python3.10/dist-packages (from folium) (2024.9.0)\n",
            "Requirement already satisfied: MarkupSafe>=2.0 in /usr/local/lib/python3.10/dist-packages (from jinja2>=2.9->folium) (3.0.2)\n",
            "Requirement already satisfied: charset-normalizer<4,>=2 in /usr/local/lib/python3.10/dist-packages (from requests->folium) (3.4.0)\n",
            "Requirement already satisfied: idna<4,>=2.5 in /usr/local/lib/python3.10/dist-packages (from requests->folium) (3.10)\n",
            "Requirement already satisfied: urllib3<3,>=1.21.1 in /usr/local/lib/python3.10/dist-packages (from requests->folium) (2.2.3)\n",
            "Requirement already satisfied: certifi>=2017.4.17 in /usr/local/lib/python3.10/dist-packages (from requests->folium) (2024.12.14)\n"
          ]
        }
      ],
      "source": [
        "pip install --upgrade folium"
      ]
    },
    {
      "cell_type": "code",
      "source": [
        "import folium\n",
        "import pandas as pd"
      ],
      "metadata": {
        "id": "97XdEfDPUXJ2"
      },
      "execution_count": 16,
      "outputs": []
    },
    {
      "cell_type": "code",
      "source": [
        "earthquake_data = pd.read_csv(\"/content/df.csv\")"
      ],
      "metadata": {
        "id": "q2aPaYWDUZWi"
      },
      "execution_count": 3,
      "outputs": []
    },
    {
      "cell_type": "code",
      "source": [
        "# Create a base map centered around a specific location (e.g., 0°, 0° for global view)\n",
        "map_center = [0, 0]  # Adjust based on your region of interest\n",
        "risk_map = folium.Map(location=map_center, zoom_start=2)"
      ],
      "metadata": {
        "id": "cw_W_SVmUZTw"
      },
      "execution_count": 4,
      "outputs": []
    },
    {
      "cell_type": "code",
      "source": [
        "# Add earthquake markers to the map\n",
        "for _, row in earthquake_data.iterrows():\n",
        "    lat = row['latitude']\n",
        "    lon = row['longitude']\n",
        "    magnitude = row['magnitude']\n",
        "    tsunami = row['tsunami']\n",
        "    date_time = row['date_time']\n",
        "    depth = row['depth']\n",
        "    intensity = row['earthquake_intensity']\n",
        "    alert_level = row['alert']\n",
        "    sig = row['sig']\n",
        "    mag_type = row['magType']\n",
        "\n",
        "    # Color the markers based on magnitude and tsunami presence\n",
        "    color = 'blue' if magnitude < 5 else 'orange' if magnitude < 7 else 'red'\n",
        "    if tsunami == 1:\n",
        "        color = 'purple'  # Purple for tsunami risk\n",
        "\n",
        "    # Create a popup with earthquake details\n",
        "    popup_content = f\"\"\"\n",
        "    <b>Magnitude:</b> {magnitude}<br>\n",
        "    <b>Tsunami Risk:</b> {'Yes' if tsunami else 'No'}<br>\n",
        "    <b>Date/Time:</b> {date_time}<br>\n",
        "    <b>Depth:</b> {depth} km<br>\n",
        "    <b>Earthquake Intensity (CDI):</b> {intensity}<br>\n",
        "    <b>Alert Level:</b> {alert_level}<br>\n",
        "    <b>Significance Score:</b> {sig}<br>\n",
        "    <b>Magnitude Type:</b> {mag_type}\n",
        "    \"\"\"\n",
        "\n",
        "    # Add the marker to the map with the popup displaying earthquake details\n",
        "    folium.CircleMarker(\n",
        "        location=[lat, lon],\n",
        "        radius=5,\n",
        "        color=color,\n",
        "        fill=True,\n",
        "        fill_color=color,\n",
        "        fill_opacity=0.6,\n",
        "        popup=folium.Popup(popup_content, max_width=300)\n",
        "    ).add_to(risk_map)\n",
        "\n",
        "# Save the map to an HTML file\n",
        "risk_map.save(\"geospatial_risk_map.html\")"
      ],
      "metadata": {
        "id": "hIE9LkNFUZRm"
      },
      "execution_count": 15,
      "outputs": []
    }
  ]
}