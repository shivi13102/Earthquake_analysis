{
  "nbformat": 4,
  "nbformat_minor": 0,
  "metadata": {
    "colab": {
      "provenance": [],
      "authorship_tag": "ABX9TyN1NWm0oUHXsFXZIZcG9sgQ",
      "include_colab_link": true
    },
    "kernelspec": {
      "name": "python3",
      "display_name": "Python 3"
    },
    "language_info": {
      "name": "python"
    }
  },
  "cells": [
    {
      "cell_type": "markdown",
      "metadata": {
        "id": "view-in-github",
        "colab_type": "text"
      },
      "source": [
        "<a href=\"https://colab.research.google.com/github/shivi13102/Earthquake_analysis/blob/main/Geospatial_Risk_Maps.ipynb\" target=\"_parent\"><img src=\"https://colab.research.google.com/assets/colab-badge.svg\" alt=\"Open In Colab\"/></a>"
      ]
    },
    {
      "cell_type": "code",
      "source": [
        "import folium\n",
        "import pandas as pd"
      ],
      "metadata": {
        "id": "97XdEfDPUXJ2"
      },
      "execution_count": 1,
      "outputs": []
    },
    {
      "cell_type": "code",
      "source": [
        "earthquake_data = pd.read_csv(\"/content/df2.csv\")"
      ],
      "metadata": {
        "id": "q2aPaYWDUZWi"
      },
      "execution_count": 2,
      "outputs": []
    },
    {
      "cell_type": "code",
      "source": [
        "# Base map centered around a specific location (e.g., 0°, 0° for global view)\n",
        "map_center = [0, 0]\n",
        "risk_map = folium.Map(location=map_center, zoom_start=2)"
      ],
      "metadata": {
        "id": "cw_W_SVmUZTw"
      },
      "execution_count": 3,
      "outputs": []
    },
    {
      "cell_type": "code",
      "source": [
        "# Earthquake markers to the map\n",
        "for _, row in earthquake_data.iterrows():\n",
        "    lat = row['latitude']\n",
        "    lon = row['longitude']\n",
        "    magnitude = row['magnitude']\n",
        "    tsunami = row['tsunami']\n",
        "    date_time = row['date_time']\n",
        "    depth = row['depth']\n",
        "    cdi = row['cdi']\n",
        "    mmi = row['mmi']\n",
        "    alert_level = row['alert']\n",
        "    sig = row['sig']\n",
        "    mag_type = row['magType']\n",
        "\n",
        "    # Colour the markers based on magnitude and tsunami presence\n",
        "    color = 'blue' if magnitude < 5 else 'orange' if magnitude < 7 else 'red'\n",
        "    if tsunami == 1:\n",
        "        color = 'purple'  # Purple for tsunami risk\n",
        "\n",
        "    # Popup with earthquake details\n",
        "    popup_content = f\"\"\"\n",
        "    <b>Magnitude:</b> {magnitude}<br>\n",
        "    <b>Tsunami Risk:</b> {'Yes' if tsunami else 'No'}<br>\n",
        "    <b>Date/Time:</b> {date_time}<br>\n",
        "    <b>Depth:</b> {depth} km<br>\n",
        "    <b>Earthquake Intensity (CDI):</b> {cdi}<br>\n",
        "    <b>Earthquake Intensity (MMI):</b> {mmi}<br>\n",
        "    <b>Alert Level:</b> {alert_level}<br>\n",
        "    <b>Significance Score:</b> {sig}<br>\n",
        "    <b>Magnitude Type:</b> {mag_type}\n",
        "    \"\"\"\n",
        "\n",
        "    # Marker to the map with the popup displaying earthquake details\n",
        "    folium.CircleMarker(\n",
        "        location=[lat, lon],\n",
        "        radius=5,\n",
        "        color=color,\n",
        "        fill=True,\n",
        "        fill_color=color,\n",
        "        fill_opacity=0.6,\n",
        "        popup=folium.Popup(popup_content, max_width=300)\n",
        "    ).add_to(risk_map)\n",
        "\n",
        "# Saving map to an HTML file\n",
        "risk_map.save(\"geospatial_risk_map.html\")"
      ],
      "metadata": {
        "id": "hIE9LkNFUZRm"
      },
      "execution_count": 6,
      "outputs": []
    }
  ]
}