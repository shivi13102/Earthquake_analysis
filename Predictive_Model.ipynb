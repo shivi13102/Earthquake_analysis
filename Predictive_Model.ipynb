{
  "nbformat": 4,
  "nbformat_minor": 0,
  "metadata": {
    "colab": {
      "provenance": [],
      "include_colab_link": true
    },
    "kernelspec": {
      "name": "python3",
      "display_name": "Python 3"
    },
    "language_info": {
      "name": "python"
    }
  },
  "cells": [
    {
      "cell_type": "markdown",
      "metadata": {
        "id": "view-in-github",
        "colab_type": "text"
      },
      "source": [
        "<a href=\"https://colab.research.google.com/github/shivi13102/Earthquake_analysis/blob/main/Predictive_Model.ipynb\" target=\"_parent\"><img src=\"https://colab.research.google.com/assets/colab-badge.svg\" alt=\"Open In Colab\"/></a>"
      ]
    },
    {
      "cell_type": "code",
      "source": [
        "pip install catboost"
      ],
      "metadata": {
        "colab": {
          "base_uri": "https://localhost:8080/"
        },
        "id": "qhZw9xMFDiJs",
        "outputId": "63f9dcfb-d9f4-4600-d272-902663618322"
      },
      "execution_count": 2,
      "outputs": [
        {
          "output_type": "stream",
          "name": "stdout",
          "text": [
            "Collecting catboost\n",
            "  Downloading catboost-1.2.7-cp310-cp310-manylinux2014_x86_64.whl.metadata (1.2 kB)\n",
            "Requirement already satisfied: graphviz in /usr/local/lib/python3.10/dist-packages (from catboost) (0.20.3)\n",
            "Requirement already satisfied: matplotlib in /usr/local/lib/python3.10/dist-packages (from catboost) (3.8.0)\n",
            "Requirement already satisfied: numpy<2.0,>=1.16.0 in /usr/local/lib/python3.10/dist-packages (from catboost) (1.26.4)\n",
            "Requirement already satisfied: pandas>=0.24 in /usr/local/lib/python3.10/dist-packages (from catboost) (2.2.2)\n",
            "Requirement already satisfied: scipy in /usr/local/lib/python3.10/dist-packages (from catboost) (1.13.1)\n",
            "Requirement already satisfied: plotly in /usr/local/lib/python3.10/dist-packages (from catboost) (5.24.1)\n",
            "Requirement already satisfied: six in /usr/local/lib/python3.10/dist-packages (from catboost) (1.17.0)\n",
            "Requirement already satisfied: python-dateutil>=2.8.2 in /usr/local/lib/python3.10/dist-packages (from pandas>=0.24->catboost) (2.8.2)\n",
            "Requirement already satisfied: pytz>=2020.1 in /usr/local/lib/python3.10/dist-packages (from pandas>=0.24->catboost) (2024.2)\n",
            "Requirement already satisfied: tzdata>=2022.7 in /usr/local/lib/python3.10/dist-packages (from pandas>=0.24->catboost) (2024.2)\n",
            "Requirement already satisfied: contourpy>=1.0.1 in /usr/local/lib/python3.10/dist-packages (from matplotlib->catboost) (1.3.1)\n",
            "Requirement already satisfied: cycler>=0.10 in /usr/local/lib/python3.10/dist-packages (from matplotlib->catboost) (0.12.1)\n",
            "Requirement already satisfied: fonttools>=4.22.0 in /usr/local/lib/python3.10/dist-packages (from matplotlib->catboost) (4.55.3)\n",
            "Requirement already satisfied: kiwisolver>=1.0.1 in /usr/local/lib/python3.10/dist-packages (from matplotlib->catboost) (1.4.7)\n",
            "Requirement already satisfied: packaging>=20.0 in /usr/local/lib/python3.10/dist-packages (from matplotlib->catboost) (24.2)\n",
            "Requirement already satisfied: pillow>=6.2.0 in /usr/local/lib/python3.10/dist-packages (from matplotlib->catboost) (11.0.0)\n",
            "Requirement already satisfied: pyparsing>=2.3.1 in /usr/local/lib/python3.10/dist-packages (from matplotlib->catboost) (3.2.0)\n",
            "Requirement already satisfied: tenacity>=6.2.0 in /usr/local/lib/python3.10/dist-packages (from plotly->catboost) (9.0.0)\n",
            "Downloading catboost-1.2.7-cp310-cp310-manylinux2014_x86_64.whl (98.7 MB)\n",
            "\u001b[2K   \u001b[90m━━━━━━━━━━━━━━━━━━━━━━━━━━━━━━━━━━━━━━━━\u001b[0m \u001b[32m98.7/98.7 MB\u001b[0m \u001b[31m8.6 MB/s\u001b[0m eta \u001b[36m0:00:00\u001b[0m\n",
            "\u001b[?25hInstalling collected packages: catboost\n",
            "Successfully installed catboost-1.2.7\n"
          ]
        }
      ]
    },
    {
      "cell_type": "code",
      "source": [
        "import pandas as pd\n",
        "import numpy as np\n",
        "from sklearn.model_selection import train_test_split\n",
        "from sklearn.preprocessing import StandardScaler, QuantileTransformer\n",
        "from sklearn.ensemble import RandomForestRegressor\n",
        "import xgboost as xgb\n",
        "import lightgbm as lgb\n",
        "from catboost import CatBoostRegressor\n",
        "from sklearn.multioutput import MultiOutputRegressor\n",
        "from sklearn.linear_model import Ridge\n",
        "from sklearn.svm import SVR\n",
        "from sklearn.neural_network import MLPRegressor\n",
        "from sklearn.metrics import mean_squared_error, r2_score\n",
        "import matplotlib.pyplot as plt\n",
        "from sklearn.cluster import KMeans\n",
        "from sklearn.metrics import silhouette_score\n",
        "import warnings"
      ],
      "metadata": {
        "id": "V1v4L_tAmixf"
      },
      "execution_count": 3,
      "outputs": []
    },
    {
      "cell_type": "code",
      "source": [
        "warnings.filterwarnings('ignore')\n",
        "\n",
        "# Dataset\n",
        "data = pd.read_csv('/content/merged_table1.csv')\n",
        "\n",
        "# Select features and target variables\n",
        "features = ['magnitude', 'depth', 'latitude', 'longitude', 'alert', 'tsunami', 'sig', 'dmin', 'gap']\n",
        "X = data[features]\n",
        "y = data[['cdi', 'mmi']]\n",
        "\n",
        "# Encode categorical features\n",
        "X = pd.get_dummies(X, columns=['alert'], drop_first=True)\n",
        "\n",
        "# Handling missing values\n",
        "X = X.fillna(X.mean())\n",
        "y = y.fillna(y.mean())"
      ],
      "metadata": {
        "id": "DZwaQB1wmu-6"
      },
      "execution_count": 4,
      "outputs": []
    },
    {
      "cell_type": "code",
      "source": [
        "# Use QuantileTransformer for CDI\n",
        "transformer = QuantileTransformer(output_distribution='normal', n_quantiles=1000)\n",
        "y['cdi'] = transformer.fit_transform(y[['cdi']])\n",
        "\n",
        "# Normalize/Scale numerical features\n",
        "scaler = StandardScaler()\n",
        "X_scaled = scaler.fit_transform(X)\n",
        "\n",
        "# Split data\n",
        "X_train, X_test, y_train, y_test = train_test_split(X_scaled, y, test_size=0.2, random_state=42)"
      ],
      "metadata": {
        "id": "rRhH9T1hmzfV"
      },
      "execution_count": 5,
      "outputs": []
    },
    {
      "cell_type": "code",
      "source": [
        "models = {\n",
        "    \"Random Forest\": MultiOutputRegressor(RandomForestRegressor(random_state=42)),\n",
        "    \"XGBoost\": MultiOutputRegressor(xgb.XGBRegressor(objective='reg:squarederror', random_state=42)),\n",
        "    \"LightGBM\": MultiOutputRegressor(lgb.LGBMRegressor(random_state=42)),\n",
        "    \"CatBoost\": MultiOutputRegressor(CatBoostRegressor(random_state=42, verbose=0)),\n",
        "    \"MultiOutput Ridge\": MultiOutputRegressor(Ridge(random_state=42)),\n",
        "    \"MultiOutput SVR\": MultiOutputRegressor(SVR()),\n",
        "    \"Neural Network\": MultiOutputRegressor(MLPRegressor(hidden_layer_sizes=(100, 50), random_state=42, max_iter=500, early_stopping=True))\n",
        "}\n",
        "\n",
        "results = {}"
      ],
      "metadata": {
        "id": "eI2S-KLim7lr"
      },
      "execution_count": 6,
      "outputs": []
    },
    {
      "cell_type": "code",
      "source": [
        "for name, model in models.items():\n",
        "    print(f\"Training {name}...\")\n",
        "    model.fit(X_train, y_train)\n",
        "    y_pred = model.predict(X_test)\n",
        "\n",
        "    # Inverse transform CDI predictions\n",
        "    y_pred[:, 0] = transformer.inverse_transform(y_pred[:, [0]]).flatten()\n",
        "    y_test['cdi'] = transformer.inverse_transform(y_test[['cdi']]).flatten()\n",
        "    y_test['cdi'] = y_test['cdi'].clip(0)\n",
        "    y_pred[:, 0] = y_pred[:, 0].clip(0)\n",
        "\n",
        "    cdi_mse = mean_squared_error(y_test['cdi'], y_pred[:, 0])\n",
        "    mmi_mse = mean_squared_error(y_test['mmi'], y_pred[:, 1])\n",
        "    cdi_r2 = r2_score(y_test['cdi'], y_pred[:, 0])\n",
        "    mmi_r2 = r2_score(y_test['mmi'], y_pred[:, 1])\n",
        "\n",
        "    results[name] = {\n",
        "        \"CDI MSE\": cdi_mse,\n",
        "        \"MMI MSE\": mmi_mse,\n",
        "        \"CDI R-squared\": cdi_r2,\n",
        "        \"MMI R-squared\": mmi_r2\n",
        "    }\n"
      ],
      "metadata": {
        "colab": {
          "base_uri": "https://localhost:8080/"
        },
        "id": "s8lG4F_InGfD",
        "outputId": "2d7216c4-104d-465a-9437-d57a03aa6caa"
      },
      "execution_count": 7,
      "outputs": [
        {
          "output_type": "stream",
          "name": "stdout",
          "text": [
            "Training Random Forest...\n",
            "Training XGBoost...\n",
            "Training LightGBM...\n",
            "[LightGBM] [Info] Auto-choosing row-wise multi-threading, the overhead of testing was 0.000536 seconds.\n",
            "You can set `force_row_wise=true` to remove the overhead.\n",
            "And if memory is not enough, you can set `force_col_wise=true`.\n",
            "[LightGBM] [Info] Total Bins 1263\n",
            "[LightGBM] [Info] Number of data points in the train set: 1049, number of used features: 10\n",
            "[LightGBM] [Info] Start training from score -1.317488\n",
            "[LightGBM] [Info] Auto-choosing row-wise multi-threading, the overhead of testing was 0.000132 seconds.\n",
            "You can set `force_row_wise=true` to remove the overhead.\n",
            "And if memory is not enough, you can set `force_col_wise=true`.\n",
            "[LightGBM] [Info] Total Bins 1263\n",
            "[LightGBM] [Info] Number of data points in the train set: 1049, number of used features: 10\n",
            "[LightGBM] [Info] Start training from score 0.557296\n",
            "Training CatBoost...\n",
            "Training MultiOutput Ridge...\n",
            "Training MultiOutput SVR...\n",
            "Training Neural Network...\n"
          ]
        }
      ]
    },
    {
      "cell_type": "code",
      "source": [
        "# Train Clustering Model and Get Optimal Clusters\n",
        "print(\"Training Clustering Model...\")\n",
        "\n",
        "# Find optimal number of clusters using silhouette scores\n",
        "silhouette_scores = []\n",
        "for n_clusters in range(2, 11):  # Testing for 2 to 10 clusters\n",
        "    kmeans = KMeans(n_clusters=n_clusters, random_state=42)\n",
        "    labels = kmeans.fit_predict(X_scaled)  # Use scaled data for clustering\n",
        "    score = silhouette_score(X_scaled, labels)\n",
        "    silhouette_scores.append(score)\n",
        "\n",
        "optimal_n_clusters = silhouette_scores.index(max(silhouette_scores)) + 2\n",
        "print(f\"Optimal number of clusters: {optimal_n_clusters}\")\n",
        "\n",
        "# Train final KMeans model on scaled training data\n",
        "kmeans = KMeans(n_clusters=optimal_n_clusters, random_state=42)\n",
        "kmeans.fit(X_scaled)\n",
        "\n",
        "# Add Cluster Distances to X_train and X_test\n",
        "X_train_clustered = np.concatenate((X_train, kmeans.transform(X_scaled[:len(X_train)])), axis=1)\n",
        "X_test_clustered = np.concatenate((X_test, kmeans.transform(X_scaled[len(X_train):])), axis=1)\n",
        "\n",
        "# Reset index and add cluster labels to y_train\n",
        "# Ensure alignment of indices\n",
        "y_train_reset = y_train.reset_index(drop=True)\n",
        "clusters = pd.DataFrame(kmeans.predict(X_scaled[:len(X_train)]), columns=['cluster'])\n",
        "y_train_clustered = pd.concat([y_train_reset, clusters], axis=1)\n",
        "\n",
        "# Validate Shapes\n",
        "print(f\"X_train_clustered shape: {X_train_clustered.shape}\")\n",
        "print(f\"X_test_clustered shape: {X_test_clustered.shape}\")\n",
        "print(f\"y_train_clustered shape: {y_train_clustered.shape}\")"
      ],
      "metadata": {
        "colab": {
          "base_uri": "https://localhost:8080/"
        },
        "id": "2DyWLtSjnOI5",
        "outputId": "74238fe2-c67b-415b-c772-f196a7e71948"
      },
      "execution_count": 8,
      "outputs": [
        {
          "output_type": "stream",
          "name": "stdout",
          "text": [
            "Training Clustering Model...\n",
            "Optimal number of clusters: 3\n",
            "X_train_clustered shape: (1049, 14)\n",
            "X_test_clustered shape: (263, 14)\n",
            "y_train_clustered shape: (1049, 3)\n"
          ]
        }
      ]
    },
    {
      "cell_type": "code",
      "source": [
        "models_clustered = {}\n",
        "for cluster in range(optimal_n_clusters):\n",
        "    # Filter data for the current cluster\n",
        "    X_train_cluster = X_train_clustered[y_train_clustered['cluster'] == cluster]\n",
        "    y_train_cluster = y_train_reset[y_train_clustered['cluster'] == cluster]\n",
        "\n",
        "    # Train a model for the cluster\n",
        "    model = MultiOutputRegressor(RandomForestRegressor(random_state=42))\n",
        "    model.fit(X_train_cluster, y_train_cluster)\n",
        "    models_clustered[cluster] = model\n",
        "\n",
        "y_pred = []\n",
        "for i in range(len(X_test)):\n",
        "    # Predict cluster for each test sample\n",
        "    cluster = kmeans.predict(X_test[i].reshape(1, -1))[0]\n",
        "\n",
        "    # Predict target values using the cluster's model\n",
        "    y_pred.append(models_clustered[cluster].predict(X_test_clustered[i].reshape(1, -1))[0])\n",
        "\n",
        "# Convert to numpy array\n",
        "y_pred = np.array(y_pred)\n",
        "\n",
        "# Inverse transform predictions for CDI\n",
        "y_pred[:, 0] = transformer.inverse_transform(y_pred[:, [0]]).flatten()\n",
        "y_test['cdi'] = transformer.inverse_transform(y_test[['cdi']]).flatten()\n",
        "\n",
        "# Clip negative values to 0\n",
        "y_test['cdi'] = y_test['cdi'].clip(0)\n",
        "y_pred[:, 0] = y_pred[:, 0].clip(0)\n",
        "\n",
        "cdi_mse = mean_squared_error(y_test['cdi'], y_pred[:, 0])\n",
        "mmi_mse = mean_squared_error(y_test['mmi'], y_pred[:, 1])\n",
        "cdi_r2 = r2_score(y_test['cdi'], y_pred[:, 0])\n",
        "mmi_r2 = r2_score(y_test['mmi'], y_pred[:, 1])"
      ],
      "metadata": {
        "id": "IkkF-6pVnUeH"
      },
      "execution_count": 9,
      "outputs": []
    },
    {
      "cell_type": "code",
      "source": [
        "results[\"Clustered Random Forest\"] = {\n",
        "    \"CDI MSE\": cdi_mse,\n",
        "    \"MMI MSE\": mmi_mse,\n",
        "    \"CDI R-squared\": cdi_r2,\n",
        "    \"MMI R-squared\": mmi_r2\n",
        "}\n"
      ],
      "metadata": {
        "id": "53_QuV7zoIyP"
      },
      "execution_count": 10,
      "outputs": []
    },
    {
      "cell_type": "code",
      "source": [
        "for name, metrics in results.items():\n",
        "    print(f\"\\n{name} Results:\")\n",
        "    for metric_name, metric_value in metrics.items():\n",
        "        print(f\"{metric_name}: {metric_value}\")\n",
        "\n",
        "# Plotting Predictions for Random Forest\n",
        "rf_model = list(models.values())[0] #Gets the first model (Random Forest)\n",
        "y_pred = rf_model.predict(X_test)\n",
        "y_pred[:, 0] = transformer.inverse_transform(y_pred[:, [0]]).flatten()\n",
        "y_test['cdi'] = transformer.inverse_transform(y_test[['cdi']]).flatten()\n",
        "y_test['cdi'] = y_test['cdi'].clip(0)\n",
        "y_pred[:, 0] = y_pred[:, 0].clip(0)\n",
        "\n",
        "plt.figure(figsize=(12, 6))"
      ],
      "metadata": {
        "colab": {
          "base_uri": "https://localhost:8080/",
          "height": 885
        },
        "id": "tdFYlRjxoKs5",
        "outputId": "5ab0a669-67aa-4063-a5c0-a53fdef186e5"
      },
      "execution_count": 11,
      "outputs": [
        {
          "output_type": "stream",
          "name": "stdout",
          "text": [
            "\n",
            "Random Forest Results:\n",
            "CDI MSE: 0.04818934852555353\n",
            "MMI MSE: 0.011794867830247144\n",
            "CDI R-squared: 0.6206919778963564\n",
            "MMI R-squared: 0.5704930427123917\n",
            "\n",
            "XGBoost Results:\n",
            "CDI MSE: 0.13446556071799703\n",
            "MMI MSE: 0.011736691294710803\n",
            "CDI R-squared: -4.627109827411857\n",
            "MMI R-squared: 0.5726115256935804\n",
            "\n",
            "LightGBM Results:\n",
            "CDI MSE: 0.2664882880345491\n",
            "MMI MSE: 0.01051367604012745\n",
            "CDI R-squared: -85.70447154471555\n",
            "MMI R-squared: 0.6171472990716715\n",
            "\n",
            "CatBoost Results:\n",
            "CDI MSE: 0.34572285020917404\n",
            "MMI MSE: 0.00990386822784998\n",
            "CDI R-squared: -2.8048369829137518e+31\n",
            "MMI R-squared: 0.6393532874516211\n",
            "\n",
            "MultiOutput Ridge Results:\n",
            "CDI MSE: 0.49820080493453156\n",
            "MMI MSE: 0.014290082697241469\n",
            "CDI R-squared: -4.041885116220454e+31\n",
            "MMI R-squared: 0.479630460721163\n",
            "\n",
            "MultiOutput SVR Results:\n",
            "CDI MSE: 0.3483155613265727\n",
            "MMI MSE: 0.014403023094336529\n",
            "CDI R-squared: -2.8258715544605603e+31\n",
            "MMI R-squared: 0.4755177663688993\n",
            "\n",
            "Neural Network Results:\n",
            "CDI MSE: 0.4193277158280209\n",
            "MMI MSE: 0.016485126807755244\n",
            "CDI R-squared: -3.401990596235028e+31\n",
            "MMI R-squared: 0.3996985165410728\n",
            "\n",
            "Clustered Random Forest Results:\n",
            "CDI MSE: 0.35265825419573305\n",
            "MMI MSE: 0.014699361400665028\n",
            "CDI R-squared: -2.861103664682627e+31\n",
            "MMI R-squared: 0.4647266862049896\n"
          ]
        },
        {
          "output_type": "execute_result",
          "data": {
            "text/plain": [
              "<Figure size 1200x600 with 0 Axes>"
            ]
          },
          "metadata": {},
          "execution_count": 11
        },
        {
          "output_type": "display_data",
          "data": {
            "text/plain": [
              "<Figure size 1200x600 with 0 Axes>"
            ]
          },
          "metadata": {}
        }
      ]
    },
    {
      "cell_type": "code",
      "source": [
        "plt.subplot(1, 2, 1)\n",
        "plt.scatter(y_test['cdi'], y_pred[:, 0])\n",
        "plt.plot([y_test['cdi'].min(), y_test['cdi'].max()], [y_test['cdi'].min(), y_test['cdi'].max()], 'r--')\n",
        "plt.xlabel(\"Actual CDI\")\n",
        "plt.ylabel(\"Predicted CDI\")\n",
        "plt.title(\"Actual vs. Predicted CDI\")"
      ],
      "metadata": {
        "colab": {
          "base_uri": "https://localhost:8080/",
          "height": 489
        },
        "id": "Wksg6vuNoR4x",
        "outputId": "6b67c428-0ca1-4567-e1ce-ffe0da7afa16"
      },
      "execution_count": 12,
      "outputs": [
        {
          "output_type": "execute_result",
          "data": {
            "text/plain": [
              "Text(0.5, 1.0, 'Actual vs. Predicted CDI')"
            ]
          },
          "metadata": {},
          "execution_count": 12
        },
        {
          "output_type": "display_data",
          "data": {
            "text/plain": [
              "<Figure size 640x480 with 1 Axes>"
            ],
            "image/png": "[encoded data removed]"
          },
          "metadata": {}
        }
      ]
    },
    {
      "cell_type": "code",
      "source": [
        "plt.subplot(1, 2, 2)\n",
        "plt.scatter(y_test['mmi'], y_pred[:, 1])\n",
        "plt.plot([y_test['mmi'].min(), y_test['mmi'].max()], [y_test['mmi'].min(), y_test['mmi'].max()], 'r--')\n",
        "plt.xlabel(\"Actual MMI\")\n",
        "plt.ylabel(\"Predicted MMI\")\n",
        "plt.title(\"Actual vs MMI\")\n",
        "plt.tight_layout()\n",
        "plt.show()\n"
      ],
      "metadata": {
        "colab": {
          "base_uri": "https://localhost:8080/",
          "height": 487
        },
        "id": "EMr0OiDLoYOv",
        "outputId": "1ba85175-2261-4413-b439-44db35d46c11"
      },
      "execution_count": 13,
      "outputs": [
        {
          "output_type": "display_data",
          "data": {
            "text/plain": [
              "<Figure size 640x480 with 1 Axes>"
            ],
            "image/png": "[encoded data removed]"
          },
          "metadata": {}
        }
      ]
    },
    {
      "cell_type": "code",
      "source": [
        "# Feature importance for Random Forest (example)\n",
        "try:\n",
        "    feature_importances = rf_model.estimators_[0].feature_importances_\n",
        "    feature_names = X.columns\n",
        "    feature_importance_df = pd.DataFrame({'Feature': feature_names, 'Importance': feature_importances})\n",
        "    feature_importance_df = feature_importance_df.sort_values(by='Importance', ascending=False)\n",
        "    plt.figure(figsize=(10, 6))\n",
        "    plt.bar(feature_importance_df['Feature'], feature_importance_df['Importance'])\n",
        "    plt.xticks(rotation=90)\n",
        "    plt.xlabel('Features')\n",
        "    plt.ylabel('Importance')\n",
        "    plt.title('Feature Importance')\n",
        "    plt.tight_layout()\n",
        "    plt.show()\n",
        "except AttributeError:\n",
        "    print(\"Feature importance is not available for this model (e.g., SVR).\")\n"
      ],
      "metadata": {
        "colab": {
          "base_uri": "https://localhost:8080/",
          "height": 607
        },
        "id": "eUfVaPTJogsz",
        "outputId": "ee1ea588-8ea7-424d-e24f-06a9a1e131a9"
      },
      "execution_count": 14,
      "outputs": [
        {
          "output_type": "display_data",
          "data": {
            "text/plain": [
              "<Figure size 1000x600 with 1 Axes>"
            ],
            "image/png": "[encoded data removed]"
          },
          "metadata": {}
        }
      ]
    },
    {
      "cell_type": "markdown",
      "source": [
        "Several machine learning models were evaluated for the prediction of both CDI and MMI. While the models showed varying degrees of success, significant issues were identified with the CDI predictions, likely due to data transformations and the distributional characteristics of the CDI variable. The models consistently failed to accurately predict CDI, yielding negative R-squared values (except for Random Forest, which still had a high MSE and clustered predictions) and indicating a need for further investigation into the CDI data and modeling approach.\n",
        "\n",
        "For MMI prediction, the Random Forest model achieved a moderate R-squared of approximately 0.62 and a relatively low MSE, demonstrating the best overall performance among the tested models for this target variable. Therefore, for the purpose of this report, the Random Forest model is considered the most suitable for MMI prediction, although further improvements are possible through feature engineering, hyperparameter tuning, or exploring alternative modeling techniques."
      ],
      "metadata": {
        "id": "J1UnozJVpnub"
      }
    }
  ]
}